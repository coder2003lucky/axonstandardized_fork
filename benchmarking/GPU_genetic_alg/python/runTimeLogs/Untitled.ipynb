{
 "cells": [
  {
   "cell_type": "code",
   "execution_count": 1,
   "metadata": {},
   "outputs": [],
   "source": [
    "import numpy as np\n",
    "import matplotlib.pyplot as plt"
   ]
  },
  {
   "cell_type": "code",
   "execution_count": 4,
   "metadata": {},
   "outputs": [
    {
     "name": "stdout",
     "output_type": "stream",
     "text": [
      "INFO:root:absolute start : 1612942966.6097162 from rank0\n",
      "INFO:root:absolute start : 1612942966.6097066 from rank2\n",
      "INFO:root:absolute start : 1612942966.6097145 from rank3\n",
      "INFO:root:absolute start : 1612942966.6097834 from rank1\n",
      "INFO:root:USING MPI : TRUE\n",
      "INFO:root:USING MPI : TRUE\n",
      "INFO:root:USING MPI : TRUE\n",
      "INFO:root:USING MPI : TRUE\n",
      "DEBUG:h5py._conv:Creating converter from 7 to 5\n",
      "DEBUG:h5py._conv:Creating converter from 5 to 7\n",
      "DEBUG:h5py._conv:Creating converter from 7 to 5\n",
      "DEBUG:h5py._conv:Creating converter from 5 to 7\n",
      "DEBUG:h5py._conv:Creating converter from 7 to 5\n",
      "DEBUG:h5py._conv:Creating converter from 7 to 5\n",
      "DEBUG:h5py._conv:Creating converter from 5 to 7\n",
      "DEBUG:h5py._conv:Creating converter from 5 to 7\n",
      "DEBUG:h5py._conv:Creating converter from 7 to 5\n",
      "DEBUG:h5py._conv:Creating converter from 7 to 5\n",
      "DEBUG:h5py._conv:Creating converter from 5 to 7\n",
      "DEBUG:h5py._conv:Creating converter from 5 to 7\n",
      "INFO:root:So should this\n",
      "WARNING:root:And this, too\n",
      "INFO:root:using nCpus: 80\n",
      "INFO:root:######## USING HARDCODE POTASSIUM in CONFIG #######\n",
      "INFO:root:and a lot of other HARDCODED PARAMS\n",
      "INFO:root:params opt ind = [2, 3, 4, 6, 11, 12, 16, 20, 23]\n",
      "INFO:root:DATE: 02_04_2021\n",
      "INFO:root:stims : neg stims\n",
      "INFO:root:So should this\n",
      "INFO:root:So should this\n",
      "WARNING:root:And this, too\n",
      "WARNING:root:And this, too\n",
      "INFO:root:using nCpus: 80\n",
      "INFO:root:using nCpus: 80\n",
      "INFO:root:######## USING HARDCODE POTASSIUM in CONFIG #######\n",
      "INFO:root:######## USING HARDCODE POTASSIUM in CONFIG #######\n",
      "INFO:root:and a lot of other HARDCODED PARAMS\n",
      "INFO:root:and a lot of other HARDCODED PARAMS\n",
      "INFO:root:params opt ind = [2, 3, 4, 6, 11, 12, 16, 20, 23]\n",
      "INFO:root:params opt ind = [2, 3, 4, 6, 11, 12, 16, 20, 23]\n",
      "INFO:root:DATE: 02_04_2021\n",
      "INFO:root:DATE: 02_04_2021\n",
      "INFO:root:stims : neg stims\n",
      "INFO:root:stims : neg stims\n",
      "DEBUG:h5py._conv:Creating converter from 7 to 5\n",
      "DEBUG:h5py._conv:Creating converter from 5 to 7\n",
      "DEBUG:h5py._conv:Creating converter from 7 to 5\n",
      "DEBUG:h5py._conv:Creating converter from 5 to 7\n",
      "INFO:root:So should this\n",
      "WARNING:root:And this, too\n",
      "INFO:root:using nCpus: 80\n",
      "INFO:root:######## USING HARDCODE POTASSIUM in CONFIG #######\n",
      "INFO:root:and a lot of other HARDCODED PARAMS\n",
      "INFO:root:params opt ind = [2, 3, 4, 6, 11, 12, 16, 20, 23]\n",
      "INFO:root:DATE: 02_04_2021\n",
      "INFO:root:stims : neg stims\n",
      "INFO:root:MPI gen1took: 9.079944372177124 from rank2\n",
      "INFO:root:MPI gen1took: 9.423141241073608 from rank0\n",
      "INFO:root:MPI gen1took: 8.99397897720337 from rank3\n",
      "INFO:root:MPI gen1took: 9.04977536201477 from rank1\n",
      "INFO:root:MPI gen2took: 8.869409322738647 from rank1\n",
      "INFO:root:MPI gen2took: 8.925315141677856 from rank0\n",
      "INFO:root:MPI gen2took: 8.854547262191772 from rank2\n",
      "INFO:root:MPI gen2took: 8.839194297790527 from rank3\n",
      "INFO:root:absolute end : 1612943030.086327\n",
      "INFO:root:absolute end : 1612943030.0973277\n",
      "INFO:root:absolute end : 1612943030.1062472\n",
      "INFO:root:absolute end : 1612943030.1356645\n",
      "\n"
     ]
    }
   ],
   "source": [
    "with open(\"runTime3.log\",'r') as f:\n",
    "    print(f.read())"
   ]
  },
  {
   "cell_type": "code",
   "execution_count": null,
   "metadata": {},
   "outputs": [],
   "source": []
  }
 ],
 "metadata": {
  "kernelspec": {
   "display_name": "Python 3",
   "language": "python",
   "name": "python3"
  },
  "language_info": {
   "codemirror_mode": {
    "name": "ipython",
    "version": 3
   },
   "file_extension": ".py",
   "mimetype": "text/x-python",
   "name": "python",
   "nbconvert_exporter": "python",
   "pygments_lexer": "ipython3",
   "version": "3.7.4"
  }
 },
 "nbformat": 4,
 "nbformat_minor": 4
}
