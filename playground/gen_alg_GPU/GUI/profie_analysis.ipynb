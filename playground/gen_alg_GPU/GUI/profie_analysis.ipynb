{
 "cells": [
  {
   "cell_type": "markdown",
   "metadata": {},
   "source": [
    "# Runtime Analysis cProfile"
   ]
  },
  {
   "cell_type": "code",
   "execution_count": null,
   "metadata": {},
   "outputs": [],
   "source": [
    "import pstats\n",
    "\n",
    "\n",
    "results_dir = \"../python/\"\n",
    "file = 'cprof_out.txt'\n",
    "\n",
    "p = pstats.Stats(results_dir + file)\n",
    "p.sort_stats('cumtime').print_stats(1000)"
   ]
  },
  {
   "cell_type": "code",
   "execution_count": 125,
   "metadata": {},
   "outputs": [
    {
     "name": "stdout",
     "output_type": "stream",
     "text": [
      "../python/prof30896.prof\n",
      "Tue Nov 10 19:25:15 2020    ../python/prof30896.prof\n",
      "\n",
      "         5497 function calls (5495 primitive calls) in 7.101 seconds\n",
      "\n",
      "   Ordered by: standard name\n",
      "\n",
      "   ncalls  tottime  percall  cumtime  percall filename:lineno(function)\n",
      "      202    0.000    0.000    0.002    0.000 <__array_function__ internals>:2(amin)\n",
      "        2    0.000    0.000    0.000    0.000 <__array_function__ internals>:2(prod)\n",
      "        2    0.000    0.000    0.000    0.000 <__array_function__ internals>:2(product)\n",
      "      202    0.000    0.000    0.002    0.000 <__array_function__ internals>:2(sum)\n",
      "        3    0.000    0.000    0.000    0.000 <frozen importlib._bootstrap>:416(parent)\n",
      "        1    0.000    0.000    7.101    7.101 <string>:1(<module>)\n",
      "        2    0.000    0.000    0.000    0.000 base.py:102(_lapl)\n",
      "        2    0.000    0.000    0.000    0.000 base.py:114(_e)\n",
      "       20    0.000    0.000    0.000    0.000 base.py:241(id)\n",
      "        3    0.000    0.000    0.000    0.000 base.py:274(__init__)\n",
      "        2    0.000    0.000    0.000    0.000 base.py:85(is_empty_dataspace)\n",
      "        1    0.000    0.000    0.000    0.000 compat.py:103(filename_encode)\n",
      "        8    0.000    0.000    0.000    0.000 dataset.py:282(shape)\n",
      "        2    0.000    0.000    0.000    0.000 dataset.py:395(__init__)\n",
      "        2    0.000    0.000    0.000    0.000 dataset.py:41(readtime_dtype)\n",
      "        2    0.000    0.000    0.001    0.000 dataset.py:476(__getitem__)\n",
      "        2    0.000    0.000    0.000    0.000 dataset.py:495(<genexpr>)\n",
      "        4    0.000    0.000    0.000    0.000 dataset.py:496(<genexpr>)\n",
      "        1    0.000    0.000    0.000    0.000 files.py:140(make_fcpl)\n",
      "        1    0.001    0.001    0.001    0.001 files.py:153(make_fid)\n",
      "        1    0.000    0.000    0.001    0.001 files.py:316(__init__)\n",
      "        1    0.000    0.000    0.000    0.000 files.py:98(make_fapl)\n",
      "        2    0.000    0.000    0.000    0.000 filters.py:246(get_filters)\n",
      "      202    0.000    0.000    0.000    0.000 fromnumeric.py:2087(_sum_dispatcher)\n",
      "      202    0.000    0.000    0.002    0.000 fromnumeric.py:2092(sum)\n",
      "      202    0.000    0.000    0.000    0.000 fromnumeric.py:2671(_amin_dispatcher)\n",
      "      202    0.000    0.000    0.002    0.000 fromnumeric.py:2676(amin)\n",
      "        4    0.000    0.000    0.000    0.000 fromnumeric.py:2838(_prod_dispatcher)\n",
      "        2    0.000    0.000    0.000    0.000 fromnumeric.py:2843(prod)\n",
      "        2    0.000    0.000    0.000    0.000 fromnumeric.py:3602(product)\n",
      "      406    0.001    0.000    0.003    0.000 fromnumeric.py:73(_wrapreduction)\n",
      "      406    0.000    0.000    0.000    0.000 fromnumeric.py:74(<dictcomp>)\n",
      "        2    0.000    0.000    0.000    0.000 group.py:255(__getitem__)\n",
      "        1    0.000    0.000    0.000    0.000 group.py:36(__init__)\n",
      "        1    0.003    0.003    0.003    0.003 hoc_evaluatorGPU_allen_par.py:102(get_first_zero)\n",
      "        1    0.000    0.000    0.004    0.004 hoc_evaluatorGPU_allen_par.py:109(check_ap_at_zero)\n",
      "        1    0.000    0.000    0.000    0.000 hoc_evaluatorGPU_allen_par.py:114(<listcomp>)\n",
      "        1    0.000    0.000    7.099    7.099 hoc_evaluatorGPU_allen_par.py:247(eval_function)\n",
      "        1    0.000    0.000    7.096    7.096 hoc_evaluatorGPU_allen_par.py:271(<listcomp>)\n",
      "        1    0.000    0.000    0.000    0.000 hoc_evaluatorGPU_allen_par.py:276(normalize_scores)\n",
      "        1    0.000    0.000    7.101    7.101 hoc_evaluatorGPU_allen_par.py:291(eval_stim_sf_pair)\n",
      "        1    0.000    0.000    0.000    0.000 os.py:794(fsencode)\n",
      "      101    0.000    0.000    7.095    0.070 score_functions.py:315(KL_divergence)\n",
      "      202    0.003    0.000    0.007    0.000 score_functions.py:316(shift)\n",
      "      202    0.002    0.000    0.005    0.000 score_functions.py:320(normalize)\n",
      "      101    7.083    0.070    7.084    0.070 score_functions.py:323(divergence)\n",
      "        2    0.000    0.000    0.000    0.000 selections.py:147(__init__)\n",
      "        2    0.000    0.000    0.000    0.000 selections.py:158(id)\n",
      "       10    0.000    0.000    0.000    0.000 selections.py:163(shape)\n",
      "        2    0.000    0.000    0.000    0.000 selections.py:168(nselect)\n",
      "        4    0.000    0.000    0.000    0.000 selections.py:239(mshape)\n",
      "        2    0.000    0.000    0.000    0.000 selections.py:244(__init__)\n",
      "        2    0.000    0.000    0.000    0.000 selections.py:250(__getitem__)\n",
      "        4    0.000    0.000    0.000    0.000 selections.py:267(<genexpr>)\n",
      "        2    0.000    0.000    0.000    0.000 selections.py:27(select)\n",
      "        2    0.000    0.000    0.000    0.000 selections.py:421(_expand_ellipsis)\n",
      "        2    0.000    0.000    0.000    0.000 selections.py:424(<genexpr>)\n",
      "        2    0.000    0.000    0.000    0.000 selections.py:444(_handle_simple)\n",
      "        2    0.000    0.000    0.000    0.000 selections.py:490(_translate_slice)\n",
      "        1    0.000    0.000    7.101    7.101 {built-in method builtins.exec}\n",
      "      105    0.000    0.000    0.000    0.000 {built-in method builtins.getattr}\n",
      "        1    0.000    0.000    0.000    0.000 {built-in method builtins.hasattr}\n",
      "      234    0.000    0.000    0.000    0.000 {built-in method builtins.isinstance}\n",
      "      129    0.000    0.000    0.000    0.000 {built-in method builtins.len}\n",
      "        2    0.000    0.000    0.000    0.000 {built-in method builtins.sum}\n",
      "        1    0.000    0.000    0.000    0.000 {built-in method h5py.h5.get_config}\n",
      "        2    0.000    0.000    0.000    0.000 {built-in method h5py.h5t.py_create}\n",
      "     1010    0.003    0.000    0.003    0.000 {built-in method numpy.array}\n",
      "  408/406    0.000    0.000    0.004    0.000 {built-in method numpy.core._multiarray_umath.implement_array_function}\n",
      "        1    0.000    0.000    0.000    0.000 {built-in method numpy.zeros}\n",
      "        2    0.000    0.000    0.000    0.000 {built-in method posix.fspath}\n",
      "       10    0.000    0.000    0.000    0.000 {method 'append' of 'list' objects}\n",
      "       19    0.000    0.000    0.000    0.000 {method 'decode' of 'bytes' objects}\n",
      "        1    0.000    0.000    0.000    0.000 {method 'disable' of '_lsprof.Profiler' objects}\n",
      "        3    0.000    0.000    0.000    0.000 {method 'encode' of 'str' objects}\n",
      "        2    0.000    0.000    0.000    0.000 {method 'indices' of 'slice' objects}\n",
      "      406    0.000    0.000    0.000    0.000 {method 'items' of 'dict' objects}\n",
      "      406    0.003    0.000    0.003    0.000 {method 'reduce' of 'numpy.ufunc' objects}\n",
      "        3    0.000    0.000    0.000    0.000 {method 'rpartition' of 'str' objects}\n",
      "\n",
      "\n"
     ]
    },
    {
     "data": {
      "text/plain": [
       "<pstats.Stats at 0x2aaac850f6d0>"
      ]
     },
     "execution_count": 125,
     "metadata": {},
     "output_type": "execute_result"
    }
   ],
   "source": [
    "import pstats\n",
    "results_dir = \"../python/\"\n",
    "file = \"prof30896.prof\"\n",
    "print(results_dir + file)\n",
    "p = pstats.Stats(results_dir + file)\n",
    "p.strip_dirs().sort_stats(-1).print_stats()"
   ]
  },
  {
   "cell_type": "code",
   "execution_count": null,
   "metadata": {},
   "outputs": [],
   "source": []
  }
 ],
 "metadata": {
  "kernelspec": {
   "display_name": "Python 3",
   "language": "python",
   "name": "python3"
  },
  "language_info": {
   "codemirror_mode": {
    "name": "ipython",
    "version": 3
   },
   "file_extension": ".py",
   "mimetype": "text/x-python",
   "name": "python",
   "nbconvert_exporter": "python",
   "pygments_lexer": "ipython3",
   "version": "3.7.4"
  }
 },
 "nbformat": 4,
 "nbformat_minor": 4
}
