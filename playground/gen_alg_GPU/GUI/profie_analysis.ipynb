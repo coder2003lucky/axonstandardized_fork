{
 "cells": [
  {
   "cell_type": "markdown",
   "metadata": {},
   "source": [
    "# Runtime Analysis cProfile"
   ]
  },
  {
   "cell_type": "code",
   "execution_count": null,
   "metadata": {},
   "outputs": [],
   "source": [
    "import pstats\n",
    "\n",
    "\n",
    "results_dir = \"../python/\"\n",
    "file = 'cprof_out.txt'\n",
    "\n",
    "p = pstats.Stats(results_dir + file)\n",
    "p.sort_stats('cumtime').print_stats(1000)"
   ]
  },
  {
   "cell_type": "code",
   "execution_count": 11,
   "metadata": {},
   "outputs": [
    {
     "name": "stdout",
     "output_type": "stream",
     "text": [
      "../python/prof21713.prof\n",
      "Sun Oct 11 18:50:15 2020    ../python/prof21713.prof\n",
      "\n",
      "         134313 function calls (134311 primitive calls) in 119.188 seconds\n",
      "\n",
      "   Ordered by: standard name\n",
      "\n",
      "   ncalls  tottime  percall  cumtime  percall filename:lineno(function)\n",
      "     4002    0.003    0.000    0.049    0.000 <__array_function__ internals>:2(amin)\n",
      "     2001    0.001    0.000    0.018    0.000 <__array_function__ internals>:2(mean)\n",
      "        2    0.000    0.000    0.000    0.000 <__array_function__ internals>:2(prod)\n",
      "        2    0.000    0.000    0.000    0.000 <__array_function__ internals>:2(product)\n",
      "     4002    0.003    0.000    0.040    0.000 <__array_function__ internals>:2(sum)\n",
      "        3    0.000    0.000    0.000    0.000 <frozen importlib._bootstrap>:416(parent)\n",
      "        1    0.000    0.000  119.188  119.188 <string>:1(<module>)\n",
      "     2001    0.000    0.000    0.001    0.000 _asarray.py:88(asanyarray)\n",
      "     2001    0.005    0.000    0.014    0.000 _methods.py:134(_mean)\n",
      "     2001    0.002    0.000    0.002    0.000 _methods.py:50(_count_reduce_items)\n",
      "        2    0.000    0.000    0.000    0.000 base.py:102(_lapl)\n",
      "        2    0.000    0.000    0.000    0.000 base.py:114(_e)\n",
      "       20    0.000    0.000    0.000    0.000 base.py:241(id)\n",
      "        3    0.000    0.000    0.000    0.000 base.py:274(__init__)\n",
      "        2    0.000    0.000    0.000    0.000 base.py:85(is_empty_dataspace)\n",
      "        1    0.000    0.000    0.000    0.000 compat.py:103(filename_encode)\n",
      "        8    0.000    0.000    0.000    0.000 dataset.py:282(shape)\n",
      "        2    0.000    0.000    0.000    0.000 dataset.py:395(__init__)\n",
      "        2    0.000    0.000    0.000    0.000 dataset.py:41(readtime_dtype)\n",
      "        2    0.000    0.000    0.001    0.000 dataset.py:476(__getitem__)\n",
      "        2    0.000    0.000    0.000    0.000 dataset.py:495(<genexpr>)\n",
      "        4    0.000    0.000    0.000    0.000 dataset.py:496(<genexpr>)\n",
      "        1    0.000    0.000    0.000    0.000 files.py:140(make_fcpl)\n",
      "        1    0.001    0.001    0.001    0.001 files.py:153(make_fid)\n",
      "        1    0.000    0.000    0.001    0.001 files.py:316(__init__)\n",
      "        1    0.000    0.000    0.000    0.000 files.py:98(make_fapl)\n",
      "        2    0.000    0.000    0.000    0.000 filters.py:246(get_filters)\n",
      "     4002    0.001    0.000    0.001    0.000 fromnumeric.py:2087(_sum_dispatcher)\n",
      "     4002    0.005    0.000    0.034    0.000 fromnumeric.py:2092(sum)\n",
      "     4002    0.001    0.000    0.001    0.000 fromnumeric.py:2671(_amin_dispatcher)\n",
      "     4002    0.005    0.000    0.042    0.000 fromnumeric.py:2676(amin)\n",
      "        4    0.000    0.000    0.000    0.000 fromnumeric.py:2838(_prod_dispatcher)\n",
      "        2    0.000    0.000    0.000    0.000 fromnumeric.py:2843(prod)\n",
      "     2001    0.000    0.000    0.000    0.000 fromnumeric.py:3227(_mean_dispatcher)\n",
      "     2001    0.002    0.000    0.016    0.000 fromnumeric.py:3231(mean)\n",
      "        2    0.000    0.000    0.000    0.000 fromnumeric.py:3602(product)\n",
      "     8006    0.011    0.000    0.064    0.000 fromnumeric.py:73(_wrapreduction)\n",
      "     8006    0.003    0.000    0.003    0.000 fromnumeric.py:74(<dictcomp>)\n",
      "        2    0.000    0.000    0.000    0.000 group.py:255(__getitem__)\n",
      "        1    0.000    0.000    0.000    0.000 group.py:36(__init__)\n",
      "        1    0.001    0.001    0.001    0.001 hoc_evaluatorGPU_allen_par.py:102(get_first_zero)\n",
      "        1    0.029    0.029    0.733    0.733 hoc_evaluatorGPU_allen_par.py:109(check_ap_at_zero)\n",
      "        1    0.000    0.000    0.000    0.000 hoc_evaluatorGPU_allen_par.py:114(<listcomp>)\n",
      "     2001    0.685    0.000    0.685    0.000 hoc_evaluatorGPU_allen_par.py:124(<listcomp>)\n",
      "        1    0.000    0.000  119.183  119.183 hoc_evaluatorGPU_allen_par.py:247(eval_function)\n",
      "        1    0.007    0.007  118.450  118.450 hoc_evaluatorGPU_allen_par.py:271(<listcomp>)\n",
      "        1    0.001    0.001    0.001    0.001 hoc_evaluatorGPU_allen_par.py:276(normalize_scores)\n",
      "        1    0.003    0.003  119.188  119.188 hoc_evaluatorGPU_allen_par.py:291(eval_stim_sf_pair)\n",
      "        1    0.000    0.000    0.000    0.000 os.py:794(fsencode)\n",
      "     2001    0.007    0.000  118.443    0.059 score_functions.py:313(KL_divergence)\n",
      "     4002    0.054    0.000    0.135    0.000 score_functions.py:314(shift)\n",
      "     4002    0.031    0.000    0.089    0.000 score_functions.py:318(normalize)\n",
      "     2001  118.202    0.059  118.211    0.059 score_functions.py:321(divergence)\n",
      "        2    0.000    0.000    0.000    0.000 selections.py:147(__init__)\n",
      "        2    0.000    0.000    0.000    0.000 selections.py:158(id)\n",
      "       10    0.000    0.000    0.000    0.000 selections.py:163(shape)\n",
      "        2    0.000    0.000    0.000    0.000 selections.py:168(nselect)\n",
      "        4    0.000    0.000    0.000    0.000 selections.py:239(mshape)\n",
      "        2    0.000    0.000    0.000    0.000 selections.py:244(__init__)\n",
      "        2    0.000    0.000    0.000    0.000 selections.py:250(__getitem__)\n",
      "        4    0.000    0.000    0.000    0.000 selections.py:267(<genexpr>)\n",
      "        2    0.000    0.000    0.000    0.000 selections.py:27(select)\n",
      "        2    0.000    0.000    0.000    0.000 selections.py:421(_expand_ellipsis)\n",
      "        2    0.000    0.000    0.000    0.000 selections.py:424(<genexpr>)\n",
      "        2    0.000    0.000    0.000    0.000 selections.py:444(_handle_simple)\n",
      "        2    0.000    0.000    0.000    0.000 selections.py:490(_translate_slice)\n",
      "        1    0.000    0.000  119.188  119.188 {built-in method builtins.exec}\n",
      "     2005    0.001    0.000    0.001    0.000 {built-in method builtins.getattr}\n",
      "     2002    0.000    0.000    0.000    0.000 {built-in method builtins.hasattr}\n",
      "     8036    0.002    0.000    0.002    0.000 {built-in method builtins.isinstance}\n",
      "     4002    0.001    0.000    0.001    0.000 {built-in method builtins.issubclass}\n",
      "     2029    0.001    0.000    0.001    0.000 {built-in method builtins.len}\n",
      "        1    0.000    0.000    0.000    0.000 {built-in method builtins.print}\n",
      "        2    0.000    0.000    0.000    0.000 {built-in method builtins.sum}\n",
      "        1    0.000    0.000    0.000    0.000 {built-in method h5py.h5.get_config}\n",
      "        2    0.000    0.000    0.000    0.000 {built-in method h5py.h5t.py_create}\n",
      "    22011    0.061    0.000    0.061    0.000 {built-in method numpy.array}\n",
      "10009/10007    0.005    0.000    0.097    0.000 {built-in method numpy.core._multiarray_umath.implement_array_function}\n",
      "        1    0.000    0.000    0.000    0.000 {built-in method numpy.zeros}\n",
      "        2    0.000    0.000    0.000    0.000 {built-in method posix.fspath}\n",
      "       10    0.000    0.000    0.000    0.000 {method 'append' of 'list' objects}\n",
      "       19    0.000    0.000    0.000    0.000 {method 'decode' of 'bytes' objects}\n",
      "        1    0.000    0.000    0.000    0.000 {method 'disable' of '_lsprof.Profiler' objects}\n",
      "        3    0.000    0.000    0.000    0.000 {method 'encode' of 'str' objects}\n",
      "        2    0.000    0.000    0.000    0.000 {method 'indices' of 'slice' objects}\n",
      "     8006    0.001    0.000    0.001    0.000 {method 'items' of 'dict' objects}\n",
      "    10007    0.055    0.000    0.055    0.000 {method 'reduce' of 'numpy.ufunc' objects}\n",
      "        3    0.000    0.000    0.000    0.000 {method 'rpartition' of 'str' objects}\n",
      "\n",
      "\n"
     ]
    },
    {
     "data": {
      "text/plain": [
       "<pstats.Stats at 0x2aaaaf76bed0>"
      ]
     },
     "execution_count": 11,
     "metadata": {},
     "output_type": "execute_result"
    }
   ],
   "source": [
    "import pstats\n",
    "results_dir = \"../python/\"\n",
    "file = \"prof21713.prof\"\n",
    "print(results_dir + file)\n",
    "p = pstats.Stats(results_dir + file)\n",
    "p.strip_dirs().sort_stats(-1).print_stats()"
   ]
  },
  {
   "cell_type": "code",
   "execution_count": null,
   "metadata": {},
   "outputs": [],
   "source": []
  }
 ],
 "metadata": {
  "kernelspec": {
   "display_name": "Python 3",
   "language": "python",
   "name": "python3"
  },
  "language_info": {
   "codemirror_mode": {
    "name": "ipython",
    "version": 3
   },
   "file_extension": ".py",
   "mimetype": "text/x-python",
   "name": "python",
   "nbconvert_exporter": "python",
   "pygments_lexer": "ipython3",
   "version": "3.7.4"
  }
 },
 "nbformat": 4,
 "nbformat_minor": 4
}
